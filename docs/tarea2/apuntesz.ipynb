{
 "cells": [
  {
   "cell_type": "markdown",
   "metadata": {},
   "source": [
    "# Ruido en datos\n",
    "## 1. Introducción y definiciones\n",
    "Definimos **ruido** como todo aquello en un conjunto de datos, señal, imagen o información en general, que\n",
    "- no es de interés\n",
    "- degrada, distorciona o contamina los datos de interés\n",
    "- impide o limita el estudio o uso de tal información.\n",
    "\n",
    "Puede existir ruido antes, después o radicar en el sensor o transductor con los que interacciona la señal, o bien, se encuentra en el medio que la genera, amplifica, copia, transmite o recibe; en el canal o en la interfaz entre mesurando y sensor, y entre cada etapa. Puede haber ruido en la representación de una señal, en su codificación, en el método de procesamiento y hasta en su interpretación, modelado, etc. Incluso ciertos métodos de procesamiento y análisis pueden introducir algún ruido, perturbación o modificación colateral, aunque puede ser el costo de obtener otros beneficios.\n",
    "En general, rara vez se puede separar o eliminar totalmente un ruido, sino que se atenúa o reduce. En muchas aplicaciones la atenuación puede ser tan elevada que parece no existir ruido, o se cuenta con un mecanismo de discriminación de señales y de corrección de errores que en efecto lo eliminan al 100% (o más bien, se corrige la señal o se reduce a un modelo para su restauración).\n",
    "\n",
    "## 2. Tipos fundamentales de ruido\n",
    "\n",
    "\n",
    "1. Ruido aditivo\n",
    "2. Ruido binario o impulsivo\n",
    "3. Ruido multiplicativo\n",
    "\n",
    "- Distribución estadística de la amplitud del ruido\n",
    "\n",
    "Independientemente del modelo y de los otros atributos, la distribución de intensidades presentes en una señal puede ayudar a caracterizar ciertas señales y algunos tipos de ruido, permitiendo evaluar la contaminación e inferir información perdida o distorsionada. El ruido suele caracterizarse por el tipo de _distribución o función de densidad probabilística_ (**PDF**) de las amplitudes presentes; por ejemplo Gaussian, de Poisson, de Rice, de Rayleigh, uniforme, etc. Cada una de estas suele estar asociada, a su vez, a ciertos fenómenos físicos distintivos del origen del ruido. Sin embargo, la amplitud por sí sola es insuficiente y suele acompañarse por descripciones del espectro en frecuencia de la señal; es común por ejemplo el ruido blanco Gaussiano, cuya distribución de amplitud es descrita por una PDF Gaussiana y un espectro de ruido blanco, tal como se describe a continuación. La manera empírica de describir una PDF en (A) amplitud o (B) en frecuencua es mediante (A) histogramas de la amplitud o (B)  el espectro en frecuencia, ambos de la señal o el ruido. \n",
    "\n",
    "### Caracterización de señales mediente el _espectro de densidad en potencia_ (PSD)\n",
    "\n",
    "En circuitos eléctricos, pero también en otro tipo de señales y en imágenes, el ruido (o una señal, en general), se describe en términos de su _densidad de potencia espectral_, a veces llamada simplemente \"espectro\", pues mide la distribución o el contenido (concretamente amplitud) del ruido o señal por unidad de frecuencia. En el caso de un voltaje se mide en volts²seg/radianes, o bien, Volts²/Hz, y suele graficarse en decibeles como log S(w) vs. log w, con S(w) definida por el cuadrado de la magnitud de la transformada de fourier de la señal. Si dicha señal está dada por x(t), entonces:\n",
    "\n",
    "$$S(w)=\\frac{1}{2\\pi}\\lvert \\int_{-\\infty}^{\\infty} x(t) e^{-iwt} \\,dt \\lvert^2  = \\frac{1}{2\\pi} X(w)X^* (w) $$\n",
    "\n",
    "#### Ruido de espectro \"Gaussiano\"\n",
    "Una forma de la S(w) para modelar ruido es el espectro de densidad espectral con distribución Gaussiana (distribución espectral normal); autocorrelación = 0. Para evitar confusiones, el término ruido Gaussiano se ha reservado a la distribución de amplitud con una PDF normal. Otras PDFs como la de Poisson o la de Rayleigh pueden modelar la PSD y debe tenerse cuidado en no confindir con la PDF de la amplitud, que pude ser muy diferente.\n",
    "#### Color (del ruido)\n",
    "Se refiere a la predominancia de una región espectral, o combinaciones de bandas, por análogia al color característico de una zona relativa del espectro visible. En muchas aplicaciones es relativo a una banda de interes en señales electrónicas, de audio, de intensidad luminosa, etc. En señales multicanal, puede existir una densidad espectral diferente por cada canal. Notar que en una imagen em color, el canal rojo podría contener \"ruido azul\" o \"verde\", pero usualmente se refieren a variaciones en frecuencia espacial. Un \"color compuesto\" es la combinación de dos o más bandas espectrales de \"colores primarios\".\n",
    "  - Blanco (distribución uniforme en banda predefinida) \"1/F⁰\" indica que la densidad espectral es proporcional a 1 (constante). Autocorrelación cercana a 0. El ruido blanco es comúnmente conocido también como estática y un ejemplo notable es el ruido de fondo CMB o CMBR (cosmic microwave background radiation), que se considera efecto residual del big bang. El ruido blanco Gaussiano se refiere a un ruido con frecuencia (o de potencia espectral) uniforme y de amplitud con distribución Gaussiana. **La derivada de un ruido Browniano es un ruido blanco**.\n",
    "  \n",
    "  \n",
    "  \n",
    "  - Browniano (o café), densidad espectral (PSD) proporcional a 1/f², este ruido presenta una máxima correlacion, al aumentar la frencuencia, con un decremento de -6 dB por octava. \"Caminata aleatoria\" = moviemiento browniano. La derivada de ruido Browniano es ruido blanco. El movimiento Browniano de una partícula, descubierto por Einstein, se debe a colisiones aleatorias y permite modelar fenómenos de difusión y agregación, en distintas disciplinas. Este ruido, en términos de color, también se denomina ruido café (\"brown\" es una coincidencia). \n",
    "  \n",
    "  - Rojo (bajas frecuencias; relativo a la señal de referencia: deriva). Se considera sinónimo del ruido Browniano, o inclusive, del ruido rosa.\n",
    "  \n",
    "  - Azul (Altas frecuencias, relativo a señal de referencia, fluctuaciones, pulsos de espiga (glitches, spikes). Densidad en potencia aumenta 3 dB por octava (proporcional a frecuencia).\n",
    "  \n",
    "  \n",
    "  - Fraccionario (integral fraccionaria de un ruido blanco, o derivada fraccionaria de un ruido Browniano), con densidad espectral proporcional a 1/f, o más general, PSF proporcional a 1/f^b, cuando b = 1, el ruido se denomina **flicker** o ruido Rosa. ES un modelo presente en señales y ruido de origen fisiológico, pero también se ha visto que, aunque en menor grado que el ruido rosa o 1/f, modela una enorme gama de señales y fenómenos naturales y de origen humano, como la música. Los modelos de relieves montañosos, nubes y perfile costeños recurren a modelos 1/f^b, con b < 1.\n",
    "  \n",
    "  - Rosa (blanco + rojo), parecido al Browniano, perceptualemente (audio) igual al blanco. Decremento de -3 dB por octava (cada vez que se duplica la frecuencia), densidad espectral proporcional a 1/f. Notar que hay un alto contenido de ruido en frecuencias  bajas. Este ruido también es conocido como ruido \"1/f\", ruido de centelleo o de parpadeo (flicker). Se ha observado que las señales con este tipo de densidad espectral con mucha frecuencia provienen de fenómenos naturales y en la actividad humana aparece como característica de la música, imagenes artísticas, señales vitales, las fluctuaciones en la ecomonía, conversaciones, textos literarios, etc.\n",
    "  \n",
    "  - Púrpura (o violeta). La función de densidad en potencia espectral aumenta 6 dB por octava (proporcional a f²).Se puede obtener como derivada de un ruido blanco."
   ]
  }
 ],
 "metadata": {
  "kernelspec": {
   "display_name": "Python 3",
   "language": "python",
   "name": "python3"
  },
  "language_info": {
   "codemirror_mode": {
    "name": "ipython",
    "version": 3
   },
   "file_extension": ".py",
   "mimetype": "text/x-python",
   "name": "python",
   "nbconvert_exporter": "python",
   "pygments_lexer": "ipython3",
   "version": "3.8.5"
  }
 },
 "nbformat": 4,
 "nbformat_minor": 4
}
